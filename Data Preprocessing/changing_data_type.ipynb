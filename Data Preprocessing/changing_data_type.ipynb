{
 "cells": [
  {
   "cell_type": "code",
   "execution_count": 14,
   "metadata": {
    "collapsed": true
   },
   "outputs": [],
   "source": [
    "import pandas as pd\n",
    "import numpy as np"
   ]
  },
  {
   "cell_type": "code",
   "execution_count": 8,
   "metadata": {
    "collapsed": true
   },
   "outputs": [],
   "source": [
    "df = pd.DataFrame(pd.read_csv(\"LoanStats3a.csv\", engine='python'))\n",
    "df = df.dropna(thresh=len(df)*0.5, axis=1)"
   ]
  },
  {
   "cell_type": "code",
   "execution_count": 9,
   "metadata": {},
   "outputs": [
    {
     "data": {
      "text/plain": [
       "0    10.65%\n",
       "1    15.27%\n",
       "2    15.96%\n",
       "3    13.49%\n",
       "4    12.69%\n",
       "Name: int_rate, dtype: object"
      ]
     },
     "execution_count": 9,
     "metadata": {},
     "output_type": "execute_result"
    }
   ],
   "source": [
    "df.int_rate.head()"
   ]
  },
  {
   "cell_type": "code",
   "execution_count": 10,
   "metadata": {},
   "outputs": [
    {
     "data": {
      "text/plain": [
       "0        10.65\n",
       "1        15.27\n",
       "2        15.96\n",
       "3        13.49\n",
       "4        12.69\n",
       "5         7.90\n",
       "6        15.96\n",
       "7        18.64\n",
       "8        21.28\n",
       "9        12.69\n",
       "10       14.65\n",
       "11       12.69\n",
       "12       13.49\n",
       "13        9.91\n",
       "14       10.65\n",
       "15       16.29\n",
       "16       15.27\n",
       "17        6.03\n",
       "18       11.71\n",
       "19        6.03\n",
       "20       15.27\n",
       "21       12.42\n",
       "22       11.71\n",
       "23       11.71\n",
       "24       11.71\n",
       "25        9.91\n",
       "26       14.27\n",
       "27       16.77\n",
       "28       11.71\n",
       "29       11.71\n",
       "         ...  \n",
       "42512     9.64\n",
       "42513    14.70\n",
       "42514     7.12\n",
       "42515    10.59\n",
       "42516     9.64\n",
       "42517     9.01\n",
       "42518    11.22\n",
       "42519    10.91\n",
       "42520    14.07\n",
       "42521     7.75\n",
       "42522     7.43\n",
       "42523     7.43\n",
       "42524     8.38\n",
       "42525     7.12\n",
       "42526    12.49\n",
       "42527    11.22\n",
       "42528    11.22\n",
       "42529     9.01\n",
       "42530     9.33\n",
       "42531     9.96\n",
       "42532     9.64\n",
       "42533    10.28\n",
       "42534     9.64\n",
       "42535     9.33\n",
       "42536     8.38\n",
       "42537     7.75\n",
       "42538      NaN\n",
       "42539      NaN\n",
       "42540      NaN\n",
       "42541      NaN\n",
       "Name: int_rate, Length: 42542, dtype: object"
      ]
     },
     "execution_count": 10,
     "metadata": {},
     "output_type": "execute_result"
    }
   ],
   "source": [
    "df.int_rate.str[:-1]"
   ]
  },
  {
   "cell_type": "code",
   "execution_count": 12,
   "metadata": {},
   "outputs": [
    {
     "data": {
      "text/plain": [
       "0    10.6\n",
       "1    15.2\n",
       "2    15.9\n",
       "3    13.4\n",
       "4    12.6\n",
       "Name: int_rate, dtype: object"
      ]
     },
     "execution_count": 12,
     "metadata": {},
     "output_type": "execute_result"
    }
   ],
   "source": [
    "df.int_rate = df.int_rate.str[:-1]\n",
    "df.int_rate.head()"
   ]
  },
  {
   "cell_type": "code",
   "execution_count": 17,
   "metadata": {},
   "outputs": [],
   "source": [
    "df.int_rate = df.int_rate.astype(np.float)"
   ]
  },
  {
   "cell_type": "code",
   "execution_count": 18,
   "metadata": {},
   "outputs": [
    {
     "data": {
      "text/plain": [
       "dtype('float64')"
      ]
     },
     "execution_count": 18,
     "metadata": {},
     "output_type": "execute_result"
    }
   ],
   "source": [
    "df.int_rate.dtype"
   ]
  }
 ],
 "metadata": {
  "kernelspec": {
   "display_name": "Python 3",
   "language": "python",
   "name": "python3"
  },
  "language_info": {
   "codemirror_mode": {
    "name": "ipython",
    "version": 3
   },
   "file_extension": ".py",
   "mimetype": "text/x-python",
   "name": "python",
   "nbconvert_exporter": "python",
   "pygments_lexer": "ipython3",
   "version": "3.6.3"
  }
 },
 "nbformat": 4,
 "nbformat_minor": 2
}
