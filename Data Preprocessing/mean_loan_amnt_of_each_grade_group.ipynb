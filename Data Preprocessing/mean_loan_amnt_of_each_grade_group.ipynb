{
 "cells": [
  {
   "cell_type": "code",
   "execution_count": 3,
   "metadata": {},
   "outputs": [],
   "source": [
    "import pandas as pd\n",
    "import numpy as np\n",
    "df = pd.DataFrame(pd.read_csv(\"LoanStats3a.csv\", engine='python'))"
   ]
  },
  {
   "cell_type": "code",
   "execution_count": 9,
   "metadata": {},
   "outputs": [
    {
     "data": {
      "text/plain": [
       "grade\n",
       "A     8598.261809\n",
       "B    11047.846880\n",
       "C    10872.291190\n",
       "D    11848.682680\n",
       "E    14703.587213\n",
       "F    17150.634128\n",
       "G    17091.845703\n",
       "Name: loan_amnt, dtype: float64"
      ]
     },
     "execution_count": 9,
     "metadata": {},
     "output_type": "execute_result"
    }
   ],
   "source": [
    "df.groupby(['grade']).loan_amnt.mean()"
   ]
  },
  {
   "cell_type": "code",
   "execution_count": 10,
   "metadata": {},
   "outputs": [
    {
     "data": {
      "text/plain": [
       "grade  sub_grade\n",
       "A      A1            7252.473730\n",
       "       A2            7343.552632\n",
       "       A3            7867.210642\n",
       "       A4            9299.767642\n",
       "       A5            9578.884712\n",
       "B      B1            9692.096174\n",
       "       B2           10480.537151\n",
       "       B3           11522.580914\n",
       "       B4           11384.806950\n",
       "       B5           11566.102601\n",
       "C      C1           11134.098940\n",
       "       C2           11279.439036\n",
       "       C3           10741.314837\n",
       "       C4           10376.624088\n",
       "       C5           10427.110767\n",
       "D      D1            9907.169991\n",
       "       D2           11297.676768\n",
       "       D3           12129.406203\n",
       "       D4           12806.688596\n",
       "       D5           13226.058071\n",
       "E      E1           13879.044118\n",
       "       E2           14089.570164\n",
       "       E3           14361.077844\n",
       "       E4           15438.541667\n",
       "       E5           16783.116232\n",
       "F      F1           16982.589286\n",
       "       F2           16907.386364\n",
       "       F3           16783.474576\n",
       "       F4           17154.028436\n",
       "       F5           18622.889610\n",
       "G      G1           17891.312057\n",
       "       G2           17992.289720\n",
       "       G3           17026.582278\n",
       "       G4           17802.020202\n",
       "       G5           13903.197674\n",
       "Name: loan_amnt, dtype: float64"
      ]
     },
     "execution_count": 10,
     "metadata": {},
     "output_type": "execute_result"
    }
   ],
   "source": [
    "df.groupby(['grade', 'sub_grade']).loan_amnt.mean()"
   ]
  }
 ],
 "metadata": {
  "kernelspec": {
   "display_name": "Python 3",
   "language": "python",
   "name": "python3"
  },
  "language_info": {
   "codemirror_mode": {
    "name": "ipython",
    "version": 3
   },
   "file_extension": ".py",
   "mimetype": "text/x-python",
   "name": "python",
   "nbconvert_exporter": "python",
   "pygments_lexer": "ipython3",
   "version": "3.6.3"
  }
 },
 "nbformat": 4,
 "nbformat_minor": 2
}
